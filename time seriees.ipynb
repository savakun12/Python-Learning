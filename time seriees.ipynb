{
  "nbformat": 4,
  "nbformat_minor": 0,
  "metadata": {
    "colab": {
      "provenance": []
    },
    "kernelspec": {
      "name": "python3",
      "display_name": "Python 3"
    },
    "language_info": {
      "name": "python"
    }
  },
  "cells": [
    {
      "cell_type": "code",
      "source": [
        "!pip install python-docx\n"
      ],
      "metadata": {
        "colab": {
          "base_uri": "https://localhost:8080/"
        },
        "id": "I7TIYa6mlzWZ",
        "outputId": "27f984ab-ea87-433e-9491-c6b6c389b196"
      },
      "execution_count": 11,
      "outputs": [
        {
          "output_type": "stream",
          "name": "stdout",
          "text": [
            "Collecting python-docx\n",
            "  Downloading python_docx-1.1.2-py3-none-any.whl.metadata (2.0 kB)\n",
            "Requirement already satisfied: lxml>=3.1.0 in /usr/local/lib/python3.10/dist-packages (from python-docx) (4.9.4)\n",
            "Requirement already satisfied: typing-extensions>=4.9.0 in /usr/local/lib/python3.10/dist-packages (from python-docx) (4.12.2)\n",
            "Downloading python_docx-1.1.2-py3-none-any.whl (244 kB)\n",
            "\u001b[2K   \u001b[90m━━━━━━━━━━━━━━━━━━━━━━━━━━━━━━━━━━━━━━━━\u001b[0m \u001b[32m244.3/244.3 kB\u001b[0m \u001b[31m1.8 MB/s\u001b[0m eta \u001b[36m0:00:00\u001b[0m\n",
            "\u001b[?25hInstalling collected packages: python-docx\n",
            "Successfully installed python-docx-1.1.2\n"
          ]
        }
      ]
    },
    {
      "cell_type": "code",
      "source": [
        "import pandas as pd\n",
        "import matplotlib.pyplot as plt\n",
        "from docx import Document\n",
        "from docx.shared import Inches\n",
        "\n",
        "# Memuat dataset\n",
        "data = pd.read_csv('/content/Electric_Production.csv')\n",
        "\n",
        "# Mengonversi kolom tanggal menjadi datetime dan menjadikannya indeks\n",
        "date_column = 'DATE'  # Nama kolom tanggal yang benar\n",
        "value_column = 'IPG2211A2N'  # Nama kolom nilai yang sesuai\n",
        "\n",
        "data[date_column] = pd.to_datetime(data[date_column])\n",
        "data = data.set_index(date_column)\n",
        "\n",
        "# Menghitung SMA, CMA, dan EMA\n",
        "sma_window_size = 30  # Ganti dengan ukuran jendela yang diinginkan\n",
        "ema_span = 30  # Ganti dengan periode span yang diinginkan\n",
        "\n",
        "data['SMA'] = data[value_column].rolling(window=sma_window_size).mean()\n",
        "data['CMA'] = data[value_column].expanding().mean()\n",
        "data['EMA'] = data[value_column].ewm(span=ema_span, adjust=False).mean()\n",
        "\n",
        "# Membuat dokumen Word\n",
        "doc = Document()\n",
        "doc.add_heading('Analisis Time Series', 0)\n",
        "\n",
        "# Menambahkan Pendahuluan\n",
        "doc.add_heading('Pendahuluan', level=1)\n",
        "doc.add_paragraph(\n",
        "    \"Dataset yang digunakan adalah data produksi listrik. \"\n",
        "    \"Analisis ini bertujuan untuk menghitung dan membandingkan Simple Moving Average (SMA), \"\n",
        "    \"Cumulative Moving Average (CMA), dan Exponential Moving Average (EMA).\"\n",
        ")\n",
        "\n",
        "# Menambahkan Metodologi\n",
        "doc.add_heading('Metodologi', level=1)\n",
        "doc.add_paragraph(\n",
        "    \"SMA dihitung dengan ukuran jendela 30 hari. \"\n",
        "    \"CMA dihitung sebagai rata-rata kumulatif dari seluruh data. \"\n",
        "    \"EMA dihitung dengan span 30 hari, yang memberi lebih banyak bobot pada nilai terbaru.\"\n",
        ")\n",
        "\n",
        "# Menambahkan Hasil\n",
        "doc.add_heading('Hasil', level=1)\n",
        "\n",
        "# Menambahkan Visualisasi\n",
        "plt.figure(figsize=(12, 8))\n",
        "\n",
        "# Plot data asli dan moving averages\n",
        "plt.plot(data.index, data[value_column], label='Data Asli', color='blue')\n",
        "plt.plot(data.index, data['SMA'], label=f'SMA {sma_window_size}-hari', color='red')\n",
        "plt.plot(data.index, data['CMA'], label='CMA', color='green')\n",
        "plt.plot(data.index, data['EMA'], label=f'EMA {ema_span}-hari', color='orange')\n",
        "\n",
        "plt.title('Analisis Moving Average')\n",
        "plt.xlabel('Tanggal')\n",
        "plt.ylabel('Nilai')\n",
        "plt.legend()\n",
        "plt.grid(True)\n",
        "plt.savefig('/content/time_series_analysis.png')\n",
        "plt.close()\n",
        "\n",
        "# Menambahkan gambar ke dokumen\n",
        "doc.add_paragraph('Grafik di bawah ini menunjukkan perbandingan antara data asli dan berbagai moving averages:')\n",
        "doc.add_picture('/content/time_series_analysis.png', width=Inches(6.0))\n",
        "\n",
        "# Menambahkan Kesimpulan\n",
        "doc.add_heading('Kesimpulan', level=1)\n",
        "doc.add_paragraph(\n",
        "    \"Analisis menunjukkan bahwa SMA memberikan rata-rata bergerak sederhana selama periode tertentu, \"\n",
        "    \"sementara CMA memberikan rata-rata kumulatif dari seluruh data. \"\n",
        "    \"EMA memberikan bobot lebih pada data terbaru, sehingga lebih responsif terhadap perubahan data.\"\n",
        ")\n",
        "\n",
        "# Menyimpan dokumen\n",
        "doc.save('/content/analisis_time_series.docx')\n"
      ],
      "metadata": {
        "id": "qxmJGJN9mFvy"
      },
      "execution_count": 12,
      "outputs": []
    }
  ]
}